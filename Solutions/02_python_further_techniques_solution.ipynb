{
 "cells": [
  {
   "cell_type": "markdown",
   "metadata": {},
   "source": [
    "# Better Python programming\n",
    "\n",
    "This notebook was written by Tim Hillel (tim.hillel@ucl.ac.uk) for the UCL Department of Civil, Environmental, and Geomatric Engineering (CEGE) Introduction to Python sessions. \n",
    "\n",
    "Please contact before distributing or reusing the material below.\n",
    "\n",
    "## Overview\n",
    "\n",
    "This notebook builds from the python fundamentals notebook and introduces some more advanced techniques, which will help improve the quality of your python code.\n",
    "\n",
    "These techniques include:\n",
    "* Data structures & indexing\n",
    "* Loops & iterables\n",
    "* String formatting\n",
    "* List comprehensions\n",
    "* Function definition"
   ]
  },
  {
   "cell_type": "markdown",
   "metadata": {},
   "source": [
    "## Data structures\n",
    "\n",
    "In the last notebook we used literal values, but what happens when we need to add shape or structure to our data? \n",
    "\n",
    "Python allows us to combine values together in *data structures*. \n",
    "\n",
    "We will discuss three main data structures here, *list*, *tuple*, and *dictionary*. These are the structures you are likely to use most, though there are more!\n",
    "\n",
    "Each one uses a different type of brackets:\n",
    "\n",
    "1. `list` uses `[]` \n",
    "2. `tuple` uses `()`\n",
    "3. `dictionary` uses `{}`"
   ]
  },
  {
   "cell_type": "markdown",
   "metadata": {},
   "source": [
    "### Lists\n",
    "\n",
    "Lists are 1D arrays of values, or *elements*, which are indexed by position. They are created using square brackets `[]`\n",
    "\n",
    "We could, for instance, create a list of possible travel modes for your journey to EPFL."
   ]
  },
  {
   "cell_type": "code",
   "execution_count": null,
   "metadata": {},
   "outputs": [],
   "source": [
    "travel_modes = ['Walk', 'Cycle', 'Bus', 'Train']\n",
    "travel_modes"
   ]
  },
  {
   "cell_type": "markdown",
   "metadata": {},
   "source": [
    "Lists are indexed by integer position. Indexing in python also uses square brackets (for all data structures!).\n",
    "\n",
    "Note:\n",
    "* Python uses zero-indexing (i.e. the first element in a list has the index 0)\n",
    "* We can index from the right using negative numbers"
   ]
  },
  {
   "cell_type": "code",
   "execution_count": null,
   "metadata": {},
   "outputs": [],
   "source": [
    "travel_modes[-2]"
   ]
  },
  {
   "cell_type": "markdown",
   "metadata": {},
   "source": [
    "We can also slice lists, using the colon `:`"
   ]
  },
  {
   "cell_type": "code",
   "execution_count": null,
   "metadata": {},
   "outputs": [],
   "source": [
    "# Slice from element 1 to the end of the list\n",
    "travel_modes[1:]"
   ]
  },
  {
   "cell_type": "code",
   "execution_count": null,
   "metadata": {},
   "outputs": [],
   "source": [
    "# Slice from element 1 to element 3 (non inclusive)\n",
    "travel_modes[1:3]"
   ]
  },
  {
   "cell_type": "markdown",
   "metadata": {},
   "source": [
    "Remember that strings were described as lists of characters? We can therefore index strings in the same way.\n",
    "\n",
    "Try taking a slice of the string `cyc`"
   ]
  },
  {
   "cell_type": "code",
   "execution_count": null,
   "metadata": {},
   "outputs": [],
   "source": [
    "cyc = 'Cycle'\n",
    "# Take a slice of the first three characters of cyc\n",
    "'Cycle'[:3]\n"
   ]
  },
  {
   "cell_type": "markdown",
   "metadata": {},
   "source": [
    "You can also try a two-layer indexing"
   ]
  },
  {
   "cell_type": "code",
   "execution_count": null,
   "metadata": {},
   "outputs": [],
   "source": [
    "# Take a slice of the first three characters of element 1 of travel_modes\n",
    "travel_modes[1][:3]\n"
   ]
  },
  {
   "cell_type": "markdown",
   "metadata": {},
   "source": [
    "Lists have **variable length** and are **mutable**, in other words we can change values in a list after making it. \n",
    "\n",
    "Let's change the last travel mode to `'Metro'`"
   ]
  },
  {
   "cell_type": "code",
   "execution_count": null,
   "metadata": {},
   "outputs": [],
   "source": [
    "# Change the last travel mode to 'Metro'\n",
    "travel_modes[-1] = 'Metro'\n",
    "travel_modes\n"
   ]
  },
  {
   "cell_type": "markdown",
   "metadata": {},
   "source": [
    "We can also add items to a list using the `append` method. Maybe you own a car?"
   ]
  },
  {
   "cell_type": "code",
   "execution_count": null,
   "metadata": {},
   "outputs": [],
   "source": [
    "# Add 'Drive' to the travelmodes\n",
    "travel_modes.append('Drive')\n",
    "travel_modes"
   ]
  },
  {
   "cell_type": "markdown",
   "metadata": {},
   "source": [
    "Like strings, we can concatenate, lists. We can also mix types, and even store lists in lists (endlessly if needed)!"
   ]
  },
  {
   "cell_type": "code",
   "execution_count": null,
   "metadata": {},
   "outputs": [],
   "source": [
    "other_modes = ['Plane', ['Speed-Boat', 'Ferry'], None, 10]\n",
    "# create a new_list combining travel_modes and other_modes\n",
    "new_list=travel_modes + other_modes\n",
    "new_list\n"
   ]
  },
  {
   "cell_type": "markdown",
   "metadata": {},
   "source": [
    "There are many other methods that work with lists. Try using tab autocompletion to see which methods you can call in the list. Choose one and see if you can use the documentation to use it on new_list."
   ]
  },
  {
   "cell_type": "code",
   "execution_count": null,
   "metadata": {},
   "outputs": [],
   "source": [
    "#try using a few string methods on new list\n",
    "new_list.remove(10)\n",
    "new_list\n"
   ]
  },
  {
   "cell_type": "markdown",
   "metadata": {},
   "source": [
    "### Tuples\n",
    "\n",
    "Tuples are very similar to lists, except they have **fixed length** and are **not mutable**. They are created using round brackets `()`."
   ]
  },
  {
   "cell_type": "code",
   "execution_count": null,
   "metadata": {},
   "outputs": [],
   "source": [
    "nums = (10, 20, 30)\n",
    "nums[1]"
   ]
  },
  {
   "cell_type": "markdown",
   "metadata": {},
   "source": [
    "Note that as tuples are not mutable, we can not append to them or change a value in a tuple"
   ]
  },
  {
   "cell_type": "code",
   "execution_count": null,
   "metadata": {},
   "outputs": [],
   "source": [
    "nums[1]=40"
   ]
  },
  {
   "cell_type": "markdown",
   "metadata": {},
   "source": [
    "Tuples are commonly used for simple data in a regular format (e.g. lat-long pairs) or for returning multiple function values. \n",
    "\n",
    "Tuples support *unpacking*, that is storing all of the values in a tuple as a separate variable in one line. Be careful though, you need to unpack the right number of values!"
   ]
  },
  {
   "cell_type": "code",
   "execution_count": null,
   "metadata": {},
   "outputs": [],
   "source": [
    "a, b, c = nums\n",
    "print('a is ' + str(a))\n",
    "print('b is ' + str(b))\n",
    "print('c is ' + str(c))"
   ]
  },
  {
   "cell_type": "code",
   "execution_count": null,
   "metadata": {},
   "outputs": [],
   "source": [
    "d, e = nums"
   ]
  },
  {
   "cell_type": "markdown",
   "metadata": {},
   "source": [
    "### Dictionaries\n",
    "\n",
    "Dictionaries are lists which are indexed by a *keyword* (instead of integer position). As with lists, they have **variable length** and are **mutable**.\n",
    "\n",
    "Dictionaries are created using curly brackets `{}`, and take the general form\n",
    "\n",
    "    example_dict = {'keyword_1': value_1, 'keyword_2': value_2}"
   ]
  },
  {
   "cell_type": "code",
   "execution_count": null,
   "metadata": {},
   "outputs": [],
   "source": [
    "fuel_cost = 1.8\n",
    "mode_costs = {'Walking': 0, 'Bus': 2.4, 'Car': fuel_cost}\n",
    "mode_costs"
   ]
  },
  {
   "cell_type": "markdown",
   "metadata": {},
   "source": [
    "We can then access the values by keyword. Try getting the cost for car:"
   ]
  },
  {
   "cell_type": "code",
   "execution_count": null,
   "metadata": {},
   "outputs": [],
   "source": [
    "#try extracting the cost for travelling by car\n",
    "mode_costs['Car']\n"
   ]
  },
  {
   "cell_type": "markdown",
   "metadata": {},
   "source": [
    "Adding new elements to the dictionary is then trivial. Just create a new keyword-value pair!"
   ]
  },
  {
   "cell_type": "code",
   "execution_count": null,
   "metadata": {},
   "outputs": [],
   "source": [
    "mode_costs['Metro'] = 2.4\n",
    "mode_costs"
   ]
  },
  {
   "cell_type": "markdown",
   "metadata": {},
   "source": [
    "### Copies\n",
    "\n",
    "When storing data structures as variables, the variable points to the memory locations storing the data, and these are passed by *reference*. This is important, as multiple variables can point to the same memory locations."
   ]
  },
  {
   "cell_type": "code",
   "execution_count": null,
   "metadata": {},
   "outputs": [],
   "source": [
    "# create a list\n",
    "old = [1,2,3]\n",
    "# store the list as a new variable a\n",
    "new = old\n",
    "# append a new value to the original list\n",
    "old.append(4)\n",
    "# new value is also in the new list (as they point to the same memory locations)\n",
    "print(new)"
   ]
  },
  {
   "cell_type": "markdown",
   "metadata": {},
   "source": [
    "If we want to create a new version of the same list (i.e. store it again separately in memory) we need to use the `copy` method."
   ]
  },
  {
   "cell_type": "code",
   "execution_count": null,
   "metadata": {},
   "outputs": [],
   "source": [
    "separate = new.copy()\n",
    "new.append(5)\n",
    "separate"
   ]
  },
  {
   "cell_type": "markdown",
   "metadata": {},
   "source": [
    "## Loops\n",
    "\n",
    "In python, loops operate over objects called *iterables*, and use the keyword `for`.\n",
    "\n",
    "Their general structure is similar to `if` statements:\n",
    "\n",
    "    for i in iterable:\n",
    "        <code_block>\n",
    "        \n",
    "Lists and tuples can be used directly as iterables. \n",
    "\n",
    "Let's try iterating over the `travel_modes` list, and print the first three letters."
   ]
  },
  {
   "cell_type": "code",
   "execution_count": null,
   "metadata": {},
   "outputs": [],
   "source": [
    "# print the first three letters of each mode in travel_modes\n",
    "for mode in travel_modes:\n",
    "    print(mode[:3])\n"
   ]
  },
  {
   "cell_type": "markdown",
   "metadata": {},
   "source": [
    "We can also combine loops with if statements. Try printing only the modes longer than 4 characters. \n",
    "\n",
    "Hint, try using the function `len`!"
   ]
  },
  {
   "cell_type": "code",
   "execution_count": null,
   "metadata": {},
   "outputs": [],
   "source": [
    "# Only print modes in travel_modes longer than 4 characters\n",
    "for mode in travel_modes:\n",
    "    if len(mode)>4:\n",
    "        print(mode)\n"
   ]
  },
  {
   "cell_type": "markdown",
   "metadata": {},
   "source": [
    "There are other functions that are useful for executing loops.\n",
    "\n",
    "`range` is a function which creates an iterator containing integer values. It has multiple optional arguments, including a start, stop, and step. \n",
    "\n",
    "Try using range to print the even numbers between 5 and 15 in a `for` loop"
   ]
  },
  {
   "cell_type": "code",
   "execution_count": null,
   "metadata": {},
   "outputs": [],
   "source": [
    "# use range to print the even numbers between 5 and 15\n",
    "for i in range(6,15,2):\n",
    "    print(i)\n"
   ]
  },
  {
   "cell_type": "markdown",
   "metadata": {},
   "source": [
    "What if we want both the value and the index simultaneously? `enumerate` allows us to access both the value and the index at the same time."
   ]
  },
  {
   "cell_type": "code",
   "execution_count": null,
   "metadata": {},
   "outputs": [],
   "source": [
    "for i, v in enumerate(['Zero', 'One', 'Two']):\n",
    "    print('Element ' + str(i) + ' is ' + v)"
   ]
  },
  {
   "cell_type": "markdown",
   "metadata": {},
   "source": [
    "Finally, the `items` method of a dictionary allows us to iterate over the key-value pairs in a `dict`."
   ]
  },
  {
   "cell_type": "code",
   "execution_count": null,
   "metadata": {},
   "outputs": [],
   "source": [
    "mode_costs = {'Walking': 0, 'Bus': 2.4, 'Car': 5}\n",
    "for k, v in mode_costs.items():\n",
    "    print('The cost of ' + k + ' is ' + str(v))"
   ]
  },
  {
   "cell_type": "markdown",
   "metadata": {},
   "source": [
    "## String formatting\n",
    "\n",
    "As you have seen in the previous notebook, formatting complex strings using concatenation can be quite clumsy.\n",
    "\n",
    "Fortunately, there is a much more streamlined method, using the `format` method for strings.\n",
    "\n",
    "We can insert any number of replacement fields `'{}'` in a string, and then pass the arguments to the placeholders using the `format` method."
   ]
  },
  {
   "cell_type": "code",
   "execution_count": null,
   "metadata": {},
   "outputs": [],
   "source": [
    "mode = 'driving'\n",
    "cost = 10\n",
    "print('The cost of {} is {}CHF'.format(mode, cost))"
   ]
  },
  {
   "cell_type": "markdown",
   "metadata": {},
   "source": [
    "As you can see, the format method automatically handles the casting numerical values into strings. \n",
    "\n",
    "String formatting is very powerful, and it is possible to control exactly how each value is displayed in the formatted string.\n",
    "\n",
    "See the following website for detailed documentation.\n",
    "\n",
    "https://pyformat.info/"
   ]
  },
  {
   "cell_type": "markdown",
   "metadata": {},
   "source": [
    "### f-Strings (Python 3.6 or later)\n",
    "\n",
    "Python 3.6 introduces f-Strings, which make string formatting even more streamlined!\n",
    "\n",
    "Simply precede the string with `f`, and then you can fill the placeholders directly, so that the above string can be replicated with:"
   ]
  },
  {
   "cell_type": "code",
   "execution_count": null,
   "metadata": {},
   "outputs": [],
   "source": [
    "f'The cost of {mode} is {cost}CHF'"
   ]
  },
  {
   "cell_type": "markdown",
   "metadata": {},
   "source": [
    "## List comprehensions"
   ]
  },
  {
   "cell_type": "markdown",
   "metadata": {},
   "source": [
    "Let's look back at the loop we created above, to print the modes longer than four characters long:"
   ]
  },
  {
   "cell_type": "code",
   "execution_count": null,
   "metadata": {},
   "outputs": [],
   "source": [
    "for mode in travel_modes:\n",
    "    if len(mode)>4:\n",
    "        print(mode)"
   ]
  },
  {
   "cell_type": "markdown",
   "metadata": {},
   "source": [
    "What if instead of printing the values, we wanted the first three characters of each as a new list?\n",
    "\n",
    "We could do something like this:"
   ]
  },
  {
   "cell_type": "code",
   "execution_count": null,
   "metadata": {},
   "outputs": [],
   "source": [
    "new_list = []\n",
    "\n",
    "for mode in travel_modes:\n",
    "    if len(mode)>4:\n",
    "        new_list.append(mode[:3])\n",
    "        \n",
    "new_list"
   ]
  },
  {
   "cell_type": "markdown",
   "metadata": {},
   "source": [
    "Creating new lists from old lists is quite a common task to do in Python, but the above code is quite long and not that readable. \n",
    "\n",
    "Fortunately, there is a better method:\n",
    "\n",
    "**List comprehensions**!\n",
    "\n",
    "Take a look at the code below, and compare it to the code above. It contains all the same elements, but in a much more readable way (and all on one line!)\n"
   ]
  },
  {
   "cell_type": "code",
   "execution_count": null,
   "metadata": {},
   "outputs": [],
   "source": [
    "new_list = [mode[:3] for mode in travel_modes if len(mode)>4]\n",
    "new_list"
   ]
  },
  {
   "cell_type": "markdown",
   "metadata": {},
   "source": [
    "We can use a similar construct called a **dictionary comprehension** to create dictionaries as well. For instance, see the following code which makes a dictionary with the travel mode as the key, and its character length as the value"
   ]
  },
  {
   "cell_type": "code",
   "execution_count": null,
   "metadata": {},
   "outputs": [],
   "source": [
    "{mode: len(mode) for mode in travel_modes}"
   ]
  },
  {
   "cell_type": "markdown",
   "metadata": {},
   "source": [
    "## Function definitions\n",
    "\n",
    "In the previous notebook we saw how to call functions and methods, but what if we want to write our own?\n",
    "\n",
    "In this last section we will see how to write and use our own functions."
   ]
  },
  {
   "cell_type": "markdown",
   "metadata": {},
   "source": [
    "Let's start by defining the simplest function possible, one that takes no inputs and doesn't return anything, e.g. a 'Hello world!' function:"
   ]
  },
  {
   "cell_type": "code",
   "execution_count": null,
   "metadata": {},
   "outputs": [],
   "source": [
    "def hello_world():\n",
    "    '''\n",
    "    Prints the phrase \\'Hello World!\\'\n",
    "    '''\n",
    "    print('Hello world!')"
   ]
  },
  {
   "cell_type": "markdown",
   "metadata": {},
   "source": [
    "The function definition is started with the keyword `def`. \n",
    "\n",
    "We then give the function a name (`hello_world`) and specify the inputs it takes inside the brackets (none!). \n",
    "\n",
    "Next comes the *docstring*. This is simply a string with three quote marks, which tells the user how to use the function. Lets try getting help for our new function:"
   ]
  },
  {
   "cell_type": "code",
   "execution_count": null,
   "metadata": {},
   "outputs": [],
   "source": [
    "hello_world?"
   ]
  },
  {
   "cell_type": "markdown",
   "metadata": {},
   "source": [
    "Documenting your code is **crucial** if you want to work with others or for others to use and understand your code, and **extremely helpful** for your own code, even if others aren't using it. It can be helpful to write the docstring for a function before the function itself, and then you can implement it following the instructions.\n",
    "\n",
    "The indented block of code after the function is what will be executed when we call the function. Let's try calling our function!"
   ]
  },
  {
   "cell_type": "code",
   "execution_count": null,
   "metadata": {},
   "outputs": [],
   "source": [
    "hello_world()"
   ]
  },
  {
   "cell_type": "markdown",
   "metadata": {},
   "source": [
    "### Function arguments\n",
    "\n",
    "We can make our function more useful by taking input arguments. Try creating a function that prints an epfl email address for a first and last name."
   ]
  },
  {
   "cell_type": "code",
   "execution_count": null,
   "metadata": {},
   "outputs": [],
   "source": [
    "def epfl_email(first_name, last_name):\n",
    "    '''Email address generator, prints <first_name>.<last_name>@ucl.ac.uk'''\n",
    "    print(f'{first_name.lower()}.{last_name.lower()}@ucl.ac.uk')\n",
    "\n",
    "epfl_email('Tim', 'Hillel')"
   ]
  },
  {
   "cell_type": "markdown",
   "metadata": {},
   "source": [
    "What happens if we try to call the function with no arguments?"
   ]
  },
  {
   "cell_type": "code",
   "execution_count": null,
   "metadata": {},
   "outputs": [],
   "source": [
    "epfl_email()"
   ]
  },
  {
   "cell_type": "markdown",
   "metadata": {},
   "source": [
    "We can set default values to our function arguments by setting them to be equal to a value"
   ]
  },
  {
   "cell_type": "code",
   "execution_count": null,
   "metadata": {},
   "outputs": [],
   "source": [
    "def epfl_email(first_name='first', last_name='last'):\n",
    "    '''Email address generarator, prints <first_name>.<last_name>@ucl.ac.uk'''\n",
    "    print(f'{first_name.lower()}.{last_name.lower()}@ucl.ac.uk')\n",
    "\n",
    "epfl_email()"
   ]
  },
  {
   "cell_type": "markdown",
   "metadata": {},
   "source": [
    "Try creating a function that requires the users first and last name, but includes the top layer domain (e.g. `ch`) and second layer domain (e.g. `epfl`) to be optional arguments"
   ]
  },
  {
   "cell_type": "code",
   "execution_count": null,
   "metadata": {},
   "outputs": [],
   "source": [
    "# modify the function to add sld and tld as optional arguments\n",
    "def epfl_email(first_name, last_name, sld='epfl', tld='ch'):\n",
    "    '''Email address generator, prints <first_name>.<last_name>@<sld>.<tld>'''\n",
    "    print(f'{first_name.lower()}.{last_name.lower()}@{sld}.{tld}')\n",
    "\n",
    "epfl_email('Tim', 'Hillel', tld='co.uk')\n"
   ]
  },
  {
   "cell_type": "markdown",
   "metadata": {},
   "source": [
    "### Return\n",
    "\n",
    "As well as taking arguments, our functions can *return* values, using the `return` keyword"
   ]
  },
  {
   "cell_type": "code",
   "execution_count": null,
   "metadata": {},
   "outputs": [],
   "source": [
    "def epfl_email(first_name, last_name, sld='epfl', tld='ch'):\n",
    "    '''Email address generator, returns <first_name>.<last_name>@<sld>.<tld>'''\n",
    "    email_address = f'{first_name.lower()}.{last_name.lower()}@{sld}.{tld}'\n",
    "    return email_address"
   ]
  },
  {
   "cell_type": "code",
   "execution_count": null,
   "metadata": {},
   "outputs": [],
   "source": [
    "epfl_email('Tim', 'Hillel', sld = 'lhc')"
   ]
  }
 ],
 "metadata": {
  "kernelspec": {
   "display_name": "Python 3",
   "language": "python",
   "name": "python3"
  },
  "language_info": {
   "codemirror_mode": {
    "name": "ipython",
    "version": 3
   },
   "file_extension": ".py",
   "mimetype": "text/x-python",
   "name": "python",
   "nbconvert_exporter": "python",
   "pygments_lexer": "ipython3",
   "version": "3.8.5"
  }
 },
 "nbformat": 4,
 "nbformat_minor": 2
}
