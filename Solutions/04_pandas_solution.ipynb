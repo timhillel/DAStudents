{
 "cells": [
  {
   "cell_type": "markdown",
   "metadata": {},
   "source": [
    "# Hands on with pandas"
   ]
  },
  {
   "cell_type": "markdown",
   "metadata": {},
   "source": [
    "This notebook was written by Tim Hillel (tim.hillel@ucl.ac.uk) for UCL Department of Civil, Environmental, and Geomatric Engineering (CEGE) Introduction to Python sessions. \n",
    "\n",
    "Please contact before distributing or reusing the material below.\n",
    "\n",
    "## Overview\n",
    "\n",
    "This notebook will introduce the case-study dataset for the course, using the pandas python library."
   ]
  },
  {
   "cell_type": "markdown",
   "metadata": {},
   "source": [
    "## Pandas\n",
    "\n",
    "Pandas is a library which replicates the dataframe functionality of R in python. \n",
    "\n",
    "It is a wrapper around a numpy array with a *header* for each *column* and a unique *index* for each *row*.\n",
    "(The difference between a pandas `DataFrame` and a numpy `Array` is similar to the difference between a `dictionary`  and a `list`.)\n",
    "\n",
    "If you have not used R before, you can consider pandas to be the *excel* of Python!\n",
    "\n",
    "Let's import pandas. As with numpy, we give pandas an alias, this time `pd`"
   ]
  },
  {
   "cell_type": "code",
   "execution_count": null,
   "metadata": {},
   "outputs": [],
   "source": [
    "import pandas as pd"
   ]
  },
  {
   "cell_type": "markdown",
   "metadata": {},
   "source": [
    "### Importing data\n",
    "\n",
    "You can manually enter data in a pandas dataframe in Python, as we did with numpy in the last notebook.\n",
    "\n",
    "However, pandas is much more useful when we import data from elsewhere! Pandas supports many file types and interfaces, including *SQL, Excel,* and *JSON*. Today however, we will be importing a *csv* file.\n",
    "\n",
    "The data file is in the data directory. We can open it using a relative file path."
   ]
  },
  {
   "cell_type": "code",
   "execution_count": null,
   "metadata": {},
   "outputs": [],
   "source": [
    "df = pd.read_csv('data/dataset.csv')"
   ]
  },
  {
   "cell_type": "markdown",
   "metadata": {},
   "source": [
    "The dataframe has many attributes. Have a look at the shape of the dataframe, and the names of the columns. "
   ]
  },
  {
   "cell_type": "code",
   "execution_count": null,
   "metadata": {},
   "outputs": [],
   "source": [
    "df.shape\n"
   ]
  },
  {
   "cell_type": "code",
   "execution_count": null,
   "metadata": {},
   "outputs": [],
   "source": [
    "df.columns\n"
   ]
  },
  {
   "cell_type": "markdown",
   "metadata": {},
   "source": [
    "We can use the method `head` to look at the first 5 rows."
   ]
  },
  {
   "cell_type": "code",
   "execution_count": null,
   "metadata": {},
   "outputs": [],
   "source": [
    "df.head()"
   ]
  },
  {
   "cell_type": "markdown",
   "metadata": {},
   "source": [
    "### Pandas series & boolean masks\n",
    "\n",
    "Every column in the dataframe is a series. We can access the series using the column name. Remember, we use square brackets for indexing!"
   ]
  },
  {
   "cell_type": "code",
   "execution_count": null,
   "metadata": {},
   "outputs": [],
   "source": [
    "dist = df['distance']"
   ]
  },
  {
   "cell_type": "markdown",
   "metadata": {},
   "source": [
    "A pandas series is a numpy vector with an index and a name. We can use many similar methods and attributes to numpy arrays. \n",
    "\n",
    "Try using the relevant methods to output the mean, min, and max distance. Use a format string to output them in a useful sentence."
   ]
  },
  {
   "cell_type": "code",
   "execution_count": null,
   "metadata": {},
   "outputs": [],
   "source": [
    "print(f'''The mean distance is {dist.mean()}, \n",
    "      the minimum distance is {dist.min()}, \n",
    "      and the max distance is {dist.max()}''')\n"
   ]
  },
  {
   "cell_type": "markdown",
   "metadata": {},
   "source": [
    "We can also use boolean conditions on a series, e.g. dist<1000. \n",
    "\n",
    "Use this to select all trips in the dataset greater than 5km (5000m), and store it as a new dataframe `long_trips`"
   ]
  },
  {
   "cell_type": "code",
   "execution_count": null,
   "metadata": {},
   "outputs": [],
   "source": [
    "long_trips = df[dist>5000]\n"
   ]
  },
  {
   "cell_type": "markdown",
   "metadata": {},
   "source": [
    "How many trips (rows) are in long_trips?"
   ]
  },
  {
   "cell_type": "code",
   "execution_count": null,
   "metadata": {},
   "outputs": [],
   "source": [
    "long_trips.shape\n"
   ]
  },
  {
   "cell_type": "markdown",
   "metadata": {},
   "source": [
    "As well as using the column name to index each column, we can also access each column as an `attribute` of the dataframe. This is particularly useful for using tab autocomplete!"
   ]
  },
  {
   "cell_type": "code",
   "execution_count": null,
   "metadata": {},
   "outputs": [],
   "source": [
    "long_trips.travel_mode.head()"
   ]
  },
  {
   "cell_type": "markdown",
   "metadata": {},
   "source": [
    "Try to output the unique values in `long_trips.travel_mode`"
   ]
  },
  {
   "cell_type": "code",
   "execution_count": null,
   "metadata": {},
   "outputs": [],
   "source": [
    "long_trips.travel_mode.unique()\n"
   ]
  },
  {
   "cell_type": "markdown",
   "metadata": {},
   "source": [
    "We could also count the values"
   ]
  },
  {
   "cell_type": "code",
   "execution_count": null,
   "metadata": {},
   "outputs": [],
   "source": [
    "long_trips.travel_mode.value_counts()"
   ]
  },
  {
   "cell_type": "markdown",
   "metadata": {},
   "source": [
    "Try comparing the ratios of the different modes for the long_trips and trips shorter than 1000m. *Hint* divide the value counts by the number of trips"
   ]
  },
  {
   "cell_type": "code",
   "execution_count": null,
   "metadata": {},
   "outputs": [],
   "source": [
    "print(long_trips.travel_mode.value_counts()/long_trips.shape[0])\n",
    "print(df[df.distance<1000].travel_mode.value_counts()/df[df.distance<1000].shape[0])\n"
   ]
  },
  {
   "cell_type": "markdown",
   "metadata": {},
   "source": [
    "#### Selecting multiple columns\n",
    "\n",
    "We have seen that we can access a single `series` (column) by indexing the name of the column, and we could also select rows by using a boolean mask. \n",
    "\n",
    "What if we want to select a subset of the columns? \n",
    "\n",
    "We can use a list of the column names we want to select!\n"
   ]
  },
  {
   "cell_type": "code",
   "execution_count": null,
   "metadata": {},
   "outputs": [],
   "source": [
    "smalldf = df[['travel_mode', 'distance']]\n",
    "smalldf.head()"
   ]
  },
  {
   "cell_type": "markdown",
   "metadata": {},
   "source": [
    "Using a comprehension with the `travel_modes` iterator created below, create a dictionary where the `key` is each transport mode, and the `value` is the mean distance for that mode (from `smalldf`)"
   ]
  },
  {
   "cell_type": "code",
   "execution_count": null,
   "metadata": {},
   "outputs": [],
   "source": [
    "travel_modes = smalldf.travel_mode.unique()\n",
    "# use dictionary comprehension with travel_modes and smalldf\n",
    "{m: smalldf[smalldf.travel_mode==m].distance.mean() for m in travel_modes}\n"
   ]
  },
  {
   "cell_type": "markdown",
   "metadata": {},
   "source": [
    "Lets add a few more columns. Use a list comprehension to create a list of all columns names which contain the string `dur`. \n",
    "Append the values `travel_mode` and `distance` to this list, and use it to select these columns from `df` to form a new dataframe `dur_df`.\n",
    "\n",
    "*Hints*: Remember `df.columns` returns a list of the column names, and we can check if something (e.g. a substring or integer) is in something else (e.g. a string or list) using the `in` keyword!"
   ]
  },
  {
   "cell_type": "code",
   "execution_count": null,
   "metadata": {},
   "outputs": [],
   "source": [
    "dur_df = df[['travel_mode', 'distance'] + [c for c in df.columns if 'dur' in c]]\n",
    "dur_df.head()\n"
   ]
  },
  {
   "cell_type": "markdown",
   "metadata": {},
   "source": [
    "Pandas dataframes have a useful method, `describe`, which provide basic statistics about all of the numerical columns in a dataframe"
   ]
  },
  {
   "cell_type": "code",
   "execution_count": null,
   "metadata": {},
   "outputs": [],
   "source": [
    "dur_df.describe()"
   ]
  },
  {
   "cell_type": "markdown",
   "metadata": {},
   "source": [
    "## Exercise\n",
    "\n",
    "Using the `dur_df` dataframe, and the matplotlib plotting interface produce two plots:\n",
    "\n",
    "1. The first plot should be a scatter plot of *distance* vs *duration* for the four transport modes (`['dur_walking', 'dur_cycling', 'dur_pt_total', 'dur_driving']`). \n",
    "Use a different colour for each mode, with a marker of a point ('.') and a size of 1. \n",
    "Remember to add a legend and label your axis. \n",
    "Save it as a pdf file, with a name of your choice.\n",
    "\n",
    "2. The second plot should be a *kernel density* plot of the distance distribution for each mode. Use the density function from the direct pandas plotting interface (e.g. `df.plot.density()`)\n",
    "Again, label the axis and add a legend.\n",
    "Save it as a png file, with a name of your choice"
   ]
  },
  {
   "cell_type": "code",
   "execution_count": null,
   "metadata": {},
   "outputs": [],
   "source": [
    "import matplotlib.pyplot as plt\n"
   ]
  },
  {
   "cell_type": "code",
   "execution_count": null,
   "metadata": {},
   "outputs": [],
   "source": [
    "fig, ax = plt.subplots(figsize=(8,6))\n",
    "modes = ['walking', 'cycling', 'pt_total', 'driving']\n",
    "colors = ['blue', 'orange', 'magenta', 'green']\n",
    "for i, mode in enumerate(modes):\n",
    "    dur_df.plot.scatter(x='distance', y=f'dur_{mode}', \n",
    "                        s=1, ax=ax, marker='.', label = mode, color = colors[i])\n",
    "ax.set_ylabel('duration')\n",
    "fig.savefig('tim_scatter.pdf')\n"
   ]
  },
  {
   "cell_type": "code",
   "execution_count": null,
   "metadata": {},
   "outputs": [],
   "source": [
    "fig, axs = plt.subplots(4, sharex=True, figsize=(8,12))\n",
    "modes = ['walk', 'cycle', 'pt', 'drive']\n",
    "colors = ['blue', 'orange', 'magenta', 'green']\n",
    "for i, mode in enumerate(modes):\n",
    "    df[df.travel_mode==mode].distance.plot.density(ax=axs[i], color=colors[i], label=mode)\n",
    "    axs[i].legend()\n",
    "    axs[i].set_ylim(0,.001)\n",
    "    axs[i].set_xlim(-500,5000)\n",
    "axs[3].set_xlabel('Duration')\n",
    "fig.savefig('tim_density.png')\n"
   ]
  }
 ],
 "metadata": {
  "kernelspec": {
   "display_name": "Python 3",
   "language": "python",
   "name": "python3"
  },
  "language_info": {
   "codemirror_mode": {
    "name": "ipython",
    "version": 3
   },
   "file_extension": ".py",
   "mimetype": "text/x-python",
   "name": "python",
   "nbconvert_exporter": "python",
   "pygments_lexer": "ipython3",
   "version": "3.8.5"
  }
 },
 "nbformat": 4,
 "nbformat_minor": 2
}
