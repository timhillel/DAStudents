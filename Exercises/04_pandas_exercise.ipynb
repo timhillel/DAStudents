{
 "cells": [
  {
   "cell_type": "markdown",
   "metadata": {},
   "source": [
    "# Hands on with pandas"
   ]
  },
  {
   "cell_type": "markdown",
   "metadata": {},
   "source": [
    "This notebook was written by Tim Hillel (tim.hillel@ucl.ac.uk) for UCL Department of Civil, Environmental, and Geomatric Engineering (CEGE) Introduction to Python sessions. \n",
    "\n",
    "Please contact before distributing or reusing the material below.\n",
    "\n",
    "## Overview\n",
    "\n",
    "This notebook will introduce the case-study dataset for the course, using the pandas python library."
   ]
  },
  {
   "cell_type": "markdown",
   "metadata": {},
   "source": [
    "## Pandas\n",
    "\n",
    "Pandas is a library which replicates the dataframe functionality of R in python. \n",
    "\n",
    "It is a wrapper around a numpy array with a *header* for each *column* and a unique *index* for each *row*.\n",
    "(The difference between a pandas `DataFrame` and a numpy `Array` is similar to the difference between a `dictionary`  and a `list`.)\n",
    "\n",
    "If you have not used R before, you can consider pandas to be the *excel* of Python!\n",
    "\n",
    "Let's import pandas. As with numpy, we give pandas an alias, this time `pd`"
   ]
  },
  {
   "cell_type": "code",
   "execution_count": null,
   "metadata": {},
   "outputs": [],
   "source": [
    "import pandas as pd"
   ]
  },
  {
   "cell_type": "markdown",
   "metadata": {},
   "source": [
    "### Importing data\n",
    "\n",
    "You can manually enter data in a pandas dataframe in Python, as we did with numpy in the last notebook.\n",
    "\n",
    "However, pandas is much more useful when we import data from elsewhere! Pandas supports many file types and interfaces, including *SQL, Excel,* and *JSON*. Today however, we will be importing a *csv* file.\n",
    "\n",
    "The data file is in the data directory. We can open it using a relative file path."
   ]
  },
  {
   "cell_type": "code",
   "execution_count": null,
   "metadata": {},
   "outputs": [],
   "source": [
    "df = pd.read_csv('data/dataset.csv')"
   ]
  },
  {
   "cell_type": "markdown",
   "metadata": {},
   "source": [
    "The dataframe has many attributes. Have a look at the shape of the dataframe, and the names of the columns. "
   ]
  },
  {
   "cell_type": "code",
   "execution_count": null,
   "metadata": {},
   "outputs": [],
   "source": []
  },
  {
   "cell_type": "code",
   "execution_count": null,
   "metadata": {},
   "outputs": [],
   "source": []
  },
  {
   "cell_type": "markdown",
   "metadata": {},
   "source": [
    "We can use the method `head` to look at the first 5 rows."
   ]
  },
  {
   "cell_type": "code",
   "execution_count": null,
   "metadata": {},
   "outputs": [],
   "source": [
    "df.head()"
   ]
  },
  {
   "cell_type": "markdown",
   "metadata": {},
   "source": [
    "### Pandas series & boolean masks\n",
    "\n",
    "Every column in the dataframe is a series. We can access the series using the column name. Remember, we use square brackets for indexing!"
   ]
  },
  {
   "cell_type": "code",
   "execution_count": null,
   "metadata": {},
   "outputs": [],
   "source": [
    "dist = df['distance']"
   ]
  },
  {
   "cell_type": "markdown",
   "metadata": {},
   "source": [
    "A pandas series is a numpy vector with an index and a name. We can use many similar methods and attributes to numpy arrays. \n",
    "\n",
    "Try using the relevant methods to output the mean, min, and max distance. Use a format string to output them in a useful sentence."
   ]
  },
  {
   "cell_type": "code",
   "execution_count": null,
   "metadata": {},
   "outputs": [],
   "source": []
  },
  {
   "cell_type": "markdown",
   "metadata": {},
   "source": [
    "We can also use boolean conditions on a series, e.g. dist<1000. \n",
    "\n",
    "Use this to select all trips in the dataset greater than 5km (5000m), and store it as a new dataframe `long_trips`"
   ]
  },
  {
   "cell_type": "code",
   "execution_count": null,
   "metadata": {},
   "outputs": [],
   "source": []
  },
  {
   "cell_type": "markdown",
   "metadata": {},
   "source": [
    "How many trips (rows) are in long_trips?"
   ]
  },
  {
   "cell_type": "code",
   "execution_count": null,
   "metadata": {},
   "outputs": [],
   "source": []
  },
  {
   "cell_type": "markdown",
   "metadata": {},
   "source": [
    "As well as using the column name to index each column, we can also access each column as an `attribute` of the dataframe. This is particularly useful for using tab autocomplete!"
   ]
  },
  {
   "cell_type": "code",
   "execution_count": null,
   "metadata": {},
   "outputs": [],
   "source": [
    "long_trips.travel_mode.head()"
   ]
  },
  {
   "cell_type": "markdown",
   "metadata": {},
   "source": [
    "Try to output the unique values in `long_trips.travel_mode`"
   ]
  },
  {
   "cell_type": "code",
   "execution_count": null,
   "metadata": {},
   "outputs": [],
   "source": []
  },
  {
   "cell_type": "markdown",
   "metadata": {},
   "source": [
    "We could also count the values"
   ]
  },
  {
   "cell_type": "code",
   "execution_count": null,
   "metadata": {},
   "outputs": [],
   "source": [
    "long_trips.travel_mode.value_counts()"
   ]
  },
  {
   "cell_type": "markdown",
   "metadata": {},
   "source": [
    "Try comparing the ratios of the different modes for the long_trips and trips shorter than 1000m. *Hint* divide the value counts by the number of trips"
   ]
  },
  {
   "cell_type": "code",
   "execution_count": null,
   "metadata": {},
   "outputs": [],
   "source": []
  },
  {
   "cell_type": "markdown",
   "metadata": {},
   "source": [
    "#### Selecting multiple columns\n",
    "\n",
    "We have seen that we can access a single `series` (column) by indexing the name of the column, and we could also select rows by using a boolean mask. \n",
    "\n",
    "What if we want to select a subset of the columns? \n",
    "\n",
    "We can use a list of the column names we want to select!\n"
   ]
  },
  {
   "cell_type": "code",
   "execution_count": null,
   "metadata": {},
   "outputs": [],
   "source": [
    "smalldf = df[['travel_mode', 'distance']]\n",
    "smalldf.head()"
   ]
  },
  {
   "cell_type": "markdown",
   "metadata": {},
   "source": [
    "Using a comprehension with the `travel_modes` iterator created below, create a dictionary where the `key` is each transport mode, and the `value` is the mean distance for that mode (from `smalldf`)"
   ]
  },
  {
   "cell_type": "code",
   "execution_count": null,
   "metadata": {},
   "outputs": [],
   "source": [
    "travel_modes = smalldf.travel_mode.unique()\n",
    "# use dictionary comprehension with travel_modes and smalldf\n"
   ]
  },
  {
   "cell_type": "markdown",
   "metadata": {},
   "source": [
    "Lets add a few more columns. Use a list comprehension to create a list of all columns names which contain the string `dur`. \n",
    "Append the values `travel_mode` and `distance` to this list, and use it to select these columns from `df` to form a new dataframe `dur_df`.\n",
    "\n",
    "*Hints*: Remember `df.columns` returns a list of the column names, and we can check if something (e.g. a substring or integer) is in something else (e.g. a string or list) using the `in` keyword!"
   ]
  },
  {
   "cell_type": "code",
   "execution_count": null,
   "metadata": {},
   "outputs": [],
   "source": []
  },
  {
   "cell_type": "markdown",
   "metadata": {},
   "source": [
    "Pandas dataframes have a useful method, `describe`, which provide basic statistics about all of the numerical columns in a dataframe"
   ]
  },
  {
   "cell_type": "code",
   "execution_count": null,
   "metadata": {},
   "outputs": [],
   "source": [
    "dur_df.describe()"
   ]
  },
  {
   "cell_type": "markdown",
   "metadata": {},
   "source": [
    "## Exercise\n",
    "\n",
    "Using the `dur_df` dataframe, and the matplotlib plotting interface produce two plots:\n",
    "\n",
    "1. The first plot should be a scatter plot of *distance* vs *duration* for the four transport modes (`['dur_walking', 'dur_cycling', 'dur_pt_total', 'dur_driving']`). \n",
    "Use a different colour for each mode, with a marker of a point ('.') and a size of 1. \n",
    "Remember to add a legend and label your axis. \n",
    "Save it as a pdf file, with a name of your choice.\n",
    "\n",
    "2. The second plot should be a *kernel density* plot of the distance distribution for each mode. Use the density function from the direct pandas plotting interface (e.g. `df.plot.density()`)\n",
    "Again, label the axis and add a legend.\n",
    "Save it as a png file, with a name of your choice"
   ]
  },
  {
   "cell_type": "code",
   "execution_count": null,
   "metadata": {},
   "outputs": [],
   "source": []
  },
  {
   "cell_type": "code",
   "execution_count": null,
   "metadata": {},
   "outputs": [],
   "source": []
  },
  {
   "cell_type": "code",
   "execution_count": null,
   "metadata": {},
   "outputs": [],
   "source": []
  }
 ],
 "metadata": {
  "kernelspec": {
   "display_name": "Python 3.10.6 ('base')",
   "language": "python",
   "name": "python3"
  },
  "language_info": {
   "codemirror_mode": {
    "name": "ipython",
    "version": 3
   },
   "file_extension": ".py",
   "mimetype": "text/x-python",
   "name": "python",
   "nbconvert_exporter": "python",
   "pygments_lexer": "ipython3",
   "version": "3.10.6 | packaged by conda-forge | (main, Aug 22 2022, 20:30:19) [MSC v.1929 64 bit (AMD64)]"
  },
  "vscode": {
   "interpreter": {
    "hash": "b76fd85120666f0bd55f9d97940fbf0e5470387377d9c5f936b61d77d81d2f47"
   }
  }
 },
 "nbformat": 4,
 "nbformat_minor": 2
}
